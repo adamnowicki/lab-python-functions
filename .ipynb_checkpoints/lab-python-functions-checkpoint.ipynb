{
 "cells": [
  {
   "cell_type": "markdown",
   "id": "25d7736c-ba17-4aff-b6bb-66eba20fbf4e",
   "metadata": {},
   "source": [
    "# Lab | Functions"
   ]
  },
  {
   "cell_type": "code",
   "execution_count": null,
   "id": "5f948dcc",
   "metadata": {},
   "outputs": [],
   "source": []
  },
  {
   "cell_type": "markdown",
   "id": "0c581062-8967-4d93-b06e-62833222f930",
   "metadata": {
    "tags": []
   },
   "source": [
    "## Exercise: Managing Customer Orders with Functions\n",
    "\n",
    "In the previous exercise, you improved the code for managing customer orders by using loops and flow control. Now, let's take it a step further and refactor the code by introducing functions.\n",
    "\n",
    "Follow the steps below to complete the exercise:\n",
    "\n",
    "1. Define a function named `initialize_inventory` that takes `products` as a parameter. Inside the function, implement the code for initializing the inventory dictionary using a loop and user input.\n",
    "\n",
    "2. Define a function named `get_customer_orders` that takes no parameters. Inside the function, implement the code for prompting the user to enter the product names using a loop. The function should return the `customer_orders` set.\n",
    "\n",
    "3. Define a function named `update_inventory` that takes `customer_orders` and `inventory` as parameters. Inside the function, implement the code for updating the inventory dictionary based on the customer orders.\n",
    "\n",
    "4. Define a function named `calculate_order_statistics` that takes `customer_orders` and `products` as parameters. Inside the function, implement the code for calculating the order statistics (total products ordered, and percentage of unique products ordered). The function should return these values.\n",
    "\n",
    "5. Define a function named `print_order_statistics` that takes `order_statistics` as a parameter. Inside the function, implement the code for printing the order statistics.\n",
    "\n",
    "6. Define a function named `print_updated_inventory` that takes `inventory` as a parameter. Inside the function, implement the code for printing the updated inventory.\n",
    "\n",
    "7. Call the functions in the appropriate sequence to execute the program and manage customer orders.\n",
    "\n",
    "Hints for functions:\n",
    "\n",
    "- Consider the input parameters required for each function and their return values.\n",
    "- Utilize function parameters and return values to transfer data between functions.\n",
    "- Test your functions individually to ensure they work correctly.\n",
    "\n",
    "\n"
   ]
  },
  {
   "cell_type": "code",
   "execution_count": 1,
   "id": "6a1bbb9f",
   "metadata": {},
   "outputs": [],
   "source": [
    "\n",
    "products=[\"t-shirt\", \"mug\", \"hat\", \"book\", \"keychain\"]\n",
    "inventory={}\n",
    "\n",
    "#Define a function named initialize_inventory that takes products as a parameter. Inside the function, implement the code for initializing the inventory dictionary using a loop and user input.\n",
    "\n",
    "def initialize_inventory(products):\n",
    "\n",
    "    for product in products:\n",
    "        quantity=int(input(f'Input quantity of {product}:')) \n",
    "        inventory[product]= quantity\n",
    "              \n",
    "    return inventory"
   ]
  },
  {
   "cell_type": "code",
   "execution_count": 11,
   "id": "765fe81d",
   "metadata": {},
   "outputs": [],
   "source": [
    "\n",
    "\n",
    "#Define a function named get_customer_orders that takes no parameters. \n",
    "#Inside the function, implement the code for prompting the user to enter the product names using a loop. \n",
    "\n",
    "def get_customers_orders(products):\n",
    "    customer_orders=set()\n",
    "    answer = \"yes\"\n",
    "\n",
    "    while answer == \"yes\":\n",
    "        product = input(f\"Enter product you want to order from the available products:{products} \")\n",
    "        product= product.lower().strip()\n",
    "        if product in products:\n",
    "            customer_orders.add(product) \n",
    "        else:\n",
    "            print(\"Product you chose is not available or you made a typo\")\n",
    "        \n",
    "        answer = input(\"Do you want to buy another product? Answer yes or no: \").lower().strip() # Add the valid product name to the customer_orders set\n",
    "        if answer == \"no\":\n",
    "            print(\"Order finished\")\n",
    "        elif answer ==\"yes\":\n",
    "            pass\n",
    "        else:\n",
    "            print(\"Please write yes or no\")\n",
    "            answer = input(\"Do you want to buy another product? Answer yes or no: \").lower().strip()                        \n",
    "    #The function should return the customer_orders set.\n",
    "    return customer_orders\n"
   ]
  },
  {
   "cell_type": "code",
   "execution_count": 3,
   "id": "ea3913e0",
   "metadata": {},
   "outputs": [],
   "source": [
    "#Define a function named update_inventory that takes customer_orders and inventory as parameters. \n",
    "#Inside the function, implement the code for updating the inventory dictionary based on the customer orders.\n",
    "\n",
    "def update_inventory(customer_orders, inventory):\n",
    "\n",
    "    for product in customer_orders:\n",
    "        if product in inventory.keys():\n",
    "            inventory[product]-=1\n",
    "\n",
    "#Define a function named print_updated_inventory that takes inventory as a parameter. \n",
    "#Inside the function, implement the code for printing the updated inventory.\n",
    "        \n",
    "def print_updated_inventory(inventory):\n",
    "\n",
    "    print(\"Updated inventory is:\")\n",
    "    for key, value in inventory.items():\n",
    "        print(key, \":\", value)"
   ]
  },
  {
   "cell_type": "code",
   "execution_count": 4,
   "id": "57fd459d",
   "metadata": {},
   "outputs": [],
   "source": [
    "#Define a function named calculate_order_statistics that takes customer_orders and products as parameters. \n",
    "#Inside the function, implement the code for calculating the order statistics (total products ordered, and percentage of unique products ordered). \n",
    "#The function should return these values.\n",
    "\n",
    "def calculate_order_statistics(customer_orders,products):\n",
    "    total_products_ordered=len(customer_orders)\n",
    "    total_products=sum(inventory.values()) \n",
    "    percentage_ordered=(total_products_ordered/total_products)*100\n",
    "\n",
    "    return total_products_ordered, percentage_ordered\n"
   ]
  },
  {
   "cell_type": "code",
   "execution_count": 5,
   "id": "7ad3405f",
   "metadata": {},
   "outputs": [],
   "source": [
    "#Define a function named print_order_statistics that takes order_statistics as a parameter. \n",
    "#Inside the function, implement the code for printing the order statistics.\n",
    "\n",
    "def print_order_statistics(order_statistics):\n",
    "    print('Order Statistics: \\n'\n",
    "    'Number of ordered products:', order_statistics[0],\"\\n\" \n",
    "    \"Percentage ordered:\", round(order_statistics[1],2),'%')"
   ]
  },
  {
   "cell_type": "code",
   "execution_count": 6,
   "id": "7a5c9e80",
   "metadata": {},
   "outputs": [
    {
     "name": "stdout",
     "output_type": "stream",
     "text": [
      "set()\n"
     ]
    }
   ],
   "source": [
    "print(customer_orders)"
   ]
  },
  {
   "cell_type": "code",
   "execution_count": 13,
   "id": "a27588fa",
   "metadata": {
    "scrolled": true
   },
   "outputs": [
    {
     "name": "stdout",
     "output_type": "stream",
     "text": [
      "Input quantity of t-shirt:5\n",
      "Input quantity of mug:5\n",
      "Input quantity of hat:5\n",
      "Input quantity of book:5\n",
      "Input quantity of keychain:5\n",
      "Enter product you want to order from the available products:['t-shirt', 'mug', 'hat', 'book', 'keychain'] book\n",
      "Do you want to buy another product? Answer yes or no: no\n",
      "Order finished\n",
      "Updated inventory is:\n",
      "t-shirt : 5\n",
      "mug : 5\n",
      "hat : 5\n",
      "book : 4\n",
      "keychain : 5\n",
      "Order Statistics: \n",
      "Number of ordered products: 1 \n",
      "Percentage ordered: 4.17 %\n"
     ]
    }
   ],
   "source": [
    "inventory=initialize_inventory(products)\n",
    "customer_orders = get_customers_orders(products)\n",
    "update_inventory(customer_orders,inventory)\n",
    "print_updated_inventory(inventory)\n",
    "order_statistics=calculate_order_statistics(customer_orders,products)\n",
    "print_order_statistics(order_statistics)"
   ]
  }
 ],
 "metadata": {
  "kernelspec": {
   "display_name": "Python 3 (ipykernel)",
   "language": "python",
   "name": "python3"
  },
  "language_info": {
   "codemirror_mode": {
    "name": "ipython",
    "version": 3
   },
   "file_extension": ".py",
   "mimetype": "text/x-python",
   "name": "python",
   "nbconvert_exporter": "python",
   "pygments_lexer": "ipython3",
   "version": "3.9.7"
  }
 },
 "nbformat": 4,
 "nbformat_minor": 5
}
